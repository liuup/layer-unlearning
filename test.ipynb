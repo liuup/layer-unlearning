{
 "cells": [
  {
   "cell_type": "code",
   "execution_count": 1,
   "metadata": {},
   "outputs": [],
   "source": [
    "import torch\n",
    "import torch.nn.functional as F\n",
    "import torch.nn as nn\n",
    "from torch.utils.data import Subset, DataLoader, TensorDataset\n",
    "\n",
    "import torchvision\n",
    "import torchvision.transforms as transforms\n",
    "\n",
    "import time\n",
    "import copy\n",
    "import random\n",
    "import numpy as np\n",
    "import matplotlib.pyplot as plt\n",
    "from PIL import Image"
   ]
  },
  {
   "cell_type": "code",
   "execution_count": 31,
   "metadata": {},
   "outputs": [],
   "source": [
    "# from accelerate import Accelerator"
   ]
  },
  {
   "cell_type": "code",
   "execution_count": 2,
   "metadata": {},
   "outputs": [
    {
     "name": "stdout",
     "output_type": "stream",
     "text": [
      "Device count: 2\n",
      "_CudaDeviceProperties(name='Z100SM', major=7, minor=5, total_memory=16368MB, multi_processor_count=64)\n",
      "_CudaDeviceProperties(name='Z100SM', major=7, minor=5, total_memory=16368MB, multi_processor_count=64)\n"
     ]
    }
   ],
   "source": [
    "device_count = torch.cuda.device_count()\n",
    "print(f\"Device count: {device_count}\")\n",
    "\n",
    "for i in range(device_count):\n",
    "    print(torch.cuda.get_device_properties(i))"
   ]
  },
  {
   "cell_type": "code",
   "execution_count": 3,
   "metadata": {},
   "outputs": [
    {
     "name": "stdout",
     "output_type": "stream",
     "text": [
      "Computing Device:  cuda\n"
     ]
    }
   ],
   "source": [
    "computing_device = \"cuda\"\n",
    "if not torch.cuda.is_available():\n",
    "    computing_device = \"cpu\"\n",
    "print(\"Computing Device: \", computing_device)"
   ]
  },
  {
   "cell_type": "code",
   "execution_count": 33,
   "metadata": {},
   "outputs": [
    {
     "name": "stdout",
     "output_type": "stream",
     "text": [
      "<accelerate.accelerator.Accelerator object at 0x7fde7dd9c150>\n"
     ]
    }
   ],
   "source": [
    "# accelerator = Accelerator()\n",
    "# print(accelerator)"
   ]
  },
  {
   "cell_type": "code",
   "execution_count": 14,
   "metadata": {},
   "outputs": [
    {
     "name": "stdout",
     "output_type": "stream",
     "text": [
      "Files already downloaded and verified\n",
      "Files already downloaded and verified\n",
      "50000\n",
      "10000\n"
     ]
    }
   ],
   "source": [
    "batch_size = 256\n",
    "\n",
    "# transform = transforms.Compose([transforms.ToTensor(),\n",
    "#                                 transforms.Normalize([0.485, 0.456, 0.406], [0.229, 0.224, 0.225])])\n",
    "\n",
    "transform_train = transforms.Compose([\n",
    "    transforms.RandomCrop(32, padding=4),  # 先四周填充0，在吧图像随机裁剪成32*32\n",
    "    transforms.RandomHorizontalFlip(),  # 图像一半的概率翻转，一半的概率不翻转\n",
    "    transforms.ToTensor(),\n",
    "    transforms.Normalize((0.4914, 0.4822, 0.4465), (0.2023, 0.1994, 0.2010)),  # R,G,B每层的归一化用到的均值和方差\n",
    "])\n",
    "\n",
    "transform_val = transforms.Compose([\n",
    "    transforms.ToTensor(),\n",
    "    transforms.Normalize((0.4914, 0.4822, 0.4465), (0.2023, 0.1994, 0.2010)),\n",
    "])\n",
    "\n",
    "\n",
    "train_dataset = torchvision.datasets.CIFAR10(root='./data', train=True, download=True, transform=transform_train)\n",
    "validate_dataset = torchvision.datasets.CIFAR10(root='./data', train=False, download=True, transform=transform_val)\n",
    "\n",
    "trainloader = DataLoader(train_dataset, batch_size=batch_size, shuffle=True, num_workers=8)\n",
    "valloader = DataLoader(validate_dataset, batch_size=batch_size, shuffle=False, num_workers=8)\n",
    "\n",
    "print(len(trainloader.dataset))\n",
    "print(len(valloader.dataset))"
   ]
  },
  {
   "cell_type": "code",
   "execution_count": 24,
   "metadata": {},
   "outputs": [
    {
     "name": "stdout",
     "output_type": "stream",
     "text": [
      "Using 2 GPUs!\n"
     ]
    }
   ],
   "source": [
    "# print(torchvision.models())\n",
    "resnet = torchvision.models.resnet101(num_classes=10).to(computing_device)\n",
    "\n",
    "\n",
    "# resnet = torchvision.models.resnet101(num_classes=10)\n",
    "\n",
    "\n",
    "\n",
    "\n",
    "if torch.cuda.device_count() > 1:\n",
    "    print(f\"Using {torch.cuda.device_count()} GPUs!\")\n",
    "    model = nn.DataParallel(resnet)\n",
    "\n",
    "lr = 0.001\n",
    "lossfn = nn.CrossEntropyLoss()\n",
    "# optimizer = torch.optim.SGD(resnet.parameters(), lr=lr, momentum=0.9, weight_decay=5e-4)\n",
    "optimizer = torch.optim.Adam(resnet.parameters(), lr=lr)\n",
    "\n",
    "\n",
    "\n",
    "# resnet, optimizer, trainloader, valloader = accelerator.prepare(model, optimizer, trainloader)\n"
   ]
  },
  {
   "cell_type": "code",
   "execution_count": 21,
   "metadata": {},
   "outputs": [
    {
     "name": "stdout",
     "output_type": "stream",
     "text": [
      "42520650\n"
     ]
    }
   ],
   "source": [
    "print(sum(p.numel() for p in resnet.parameters()))   # 查看一下模型参数量"
   ]
  },
  {
   "cell_type": "code",
   "execution_count": 28,
   "metadata": {},
   "outputs": [
    {
     "name": "stdout",
     "output_type": "stream",
     "text": [
      "torch.Size([128, 10])\n",
      "tensor([[ 0.7716, -0.1400,  0.5104,  ...,  0.9468, -0.1179,  0.0514],\n",
      "        [ 2.3137, -0.8620, -1.6912,  ...,  1.0892, -0.3543, -1.1141],\n",
      "        [-0.2872,  0.0983, -0.1753,  ...,  0.8857, -0.4489, -0.3886],\n",
      "        ...,\n",
      "        [ 0.8075, -0.0333, -0.6333,  ...,  0.3251,  0.5447,  0.0713],\n",
      "        [ 1.5661,  0.1089,  0.5665,  ...,  0.1866, -0.2049,  0.3054],\n",
      "        [ 0.5656, -0.9399, -1.8978,  ..., -0.2961, -0.2272,  0.9700]],\n",
      "       device='cuda:0', grad_fn=<AddmmBackward0>)\n"
     ]
    }
   ],
   "source": [
    "# print(model)\n",
    "# for X, y in valloader:\n",
    "#     print(X.size(), y.size())\n",
    "#     break\n",
    "\n",
    "# 测试一下模型的输入输出维度\n",
    "tmpdata = torch.randn([128, 3, 32, 32]).to(computing_device)\n",
    "tmpout = resnet(tmpdata)\n",
    "\n",
    "print(tmpout.size())\n",
    "print(tmpout)\n"
   ]
  },
  {
   "cell_type": "code",
   "execution_count": null,
   "metadata": {},
   "outputs": [],
   "source": [
    "for k in resnet.state_dict():\n",
    "    if k.find(\"bias\") >= 1:\n",
    "        continue\n",
    "    print(k)"
   ]
  },
  {
   "cell_type": "code",
   "execution_count": 29,
   "metadata": {},
   "outputs": [],
   "source": [
    "# 训练\n",
    "def train_model(epoch, model, loss_fn, optimizer, trainloader):\n",
    "    # training\n",
    "    num_batches = len(trainloader)\n",
    "    model.train()\n",
    "    train_loss = 0\n",
    "    for batch, (X, y) in enumerate(trainloader):\n",
    "        X, y = X.to(computing_device), y.to(computing_device)\n",
    "        optimizer.zero_grad()\n",
    "        \n",
    "        predict = model(X)\n",
    "\n",
    "        loss = loss_fn(predict, y)\n",
    "        train_loss += loss.item()\n",
    "\n",
    "        loss.backward()\n",
    "        optimizer.step()\n",
    "        \n",
    "    train_loss /= num_batches\n",
    "\n",
    "    return train_loss\n",
    "\n",
    "# 验证\n",
    "def val_model(epoch, model, loss_fn, valloader):\n",
    "    size = len(valloader.dataset)\n",
    "    num_batches = len(valloader)\n",
    "    \n",
    "    model.eval()\n",
    "    test_loss, val_correct = 0, 0\n",
    "    with torch.no_grad():        \n",
    "        for batch, (X, y) in enumerate(valloader):\n",
    "            X, y = X.to(computing_device), y.to(computing_device)\n",
    "\n",
    "            predict = model(X)\n",
    "            loss = loss_fn(predict, y)\n",
    "            test_loss += loss.item()\n",
    "            val_correct += (predict.argmax(1) == y).type(torch.float).sum().item() \n",
    "            \n",
    "    test_loss /= num_batches\n",
    "    val_correct /= size\n",
    "\n",
    "    return test_loss, val_correct\n",
    "\n",
    "# 测试\n",
    "def test_model(model, loss_fn, testloader):\n",
    "    pass\n"
   ]
  },
  {
   "cell_type": "code",
   "execution_count": 30,
   "metadata": {},
   "outputs": [
    {
     "name": "stdout",
     "output_type": "stream",
     "text": [
      "Epoch 0 | TrainLoss 2.12057 | ValLoss 2.34432 | ValCorrect 0.25860| TrainTime 27.38683s\n",
      "----- ----- ----- ----- -----\n",
      "Epoch 1 | TrainLoss 1.79553 | ValLoss 1.59346 | ValCorrect 0.39810| TrainTime 26.76777s\n",
      "----- ----- ----- ----- -----\n",
      "Epoch 2 | TrainLoss 1.65222 | ValLoss 1.41069 | ValCorrect 0.48030| TrainTime 26.92491s\n",
      "----- ----- ----- ----- -----\n",
      "Epoch 3 | TrainLoss 1.68830 | ValLoss 1.78956 | ValCorrect 0.34410| TrainTime 27.18425s\n",
      "----- ----- ----- ----- -----\n",
      "Epoch 4 | TrainLoss 1.92030 | ValLoss 1.64077 | ValCorrect 0.40100| TrainTime 27.29303s\n",
      "----- ----- ----- ----- -----\n",
      "Epoch 5 | TrainLoss 1.74762 | ValLoss 1.75225 | ValCorrect 0.35700| TrainTime 27.50385s\n",
      "----- ----- ----- ----- -----\n"
     ]
    },
    {
     "ename": "KeyboardInterrupt",
     "evalue": "",
     "output_type": "error",
     "traceback": [
      "\u001b[0;31m---------------------------------------------------------------------------\u001b[0m",
      "\u001b[0;31mKeyboardInterrupt\u001b[0m                         Traceback (most recent call last)",
      "\u001b[0;32m/tmp/ipykernel_262/622204820.py\u001b[0m in \u001b[0;36m<module>\u001b[0;34m\u001b[0m\n\u001b[1;32m      7\u001b[0m     \u001b[0mts\u001b[0m \u001b[0;34m=\u001b[0m \u001b[0mtime\u001b[0m\u001b[0;34m.\u001b[0m\u001b[0mperf_counter\u001b[0m\u001b[0;34m(\u001b[0m\u001b[0;34m)\u001b[0m \u001b[0;31m# 打一个时间戳\u001b[0m\u001b[0;34m\u001b[0m\u001b[0;34m\u001b[0m\u001b[0m\n\u001b[1;32m      8\u001b[0m \u001b[0;34m\u001b[0m\u001b[0m\n\u001b[0;32m----> 9\u001b[0;31m     \u001b[0mtrain_loss\u001b[0m \u001b[0;34m=\u001b[0m \u001b[0mtrain_model\u001b[0m\u001b[0;34m(\u001b[0m\u001b[0mepoch\u001b[0m\u001b[0;34m,\u001b[0m \u001b[0mresnet\u001b[0m\u001b[0;34m,\u001b[0m \u001b[0mlossfn\u001b[0m\u001b[0;34m,\u001b[0m \u001b[0moptimizer\u001b[0m\u001b[0;34m,\u001b[0m \u001b[0mtrainloader\u001b[0m\u001b[0;34m)\u001b[0m\u001b[0;34m\u001b[0m\u001b[0;34m\u001b[0m\u001b[0m\n\u001b[0m\u001b[1;32m     10\u001b[0m     \u001b[0mtd\u001b[0m \u001b[0;34m=\u001b[0m \u001b[0mtime\u001b[0m\u001b[0;34m.\u001b[0m\u001b[0mperf_counter\u001b[0m\u001b[0;34m(\u001b[0m\u001b[0;34m)\u001b[0m    \u001b[0;31m# 打一个时间戳\u001b[0m\u001b[0;34m\u001b[0m\u001b[0;34m\u001b[0m\u001b[0m\n\u001b[1;32m     11\u001b[0m \u001b[0;34m\u001b[0m\u001b[0m\n",
      "\u001b[0;32m/tmp/ipykernel_262/3245773708.py\u001b[0m in \u001b[0;36mtrain_model\u001b[0;34m(epoch, model, loss_fn, optimizer, trainloader)\u001b[0m\n\u001b[1;32m     14\u001b[0m         \u001b[0mtrain_loss\u001b[0m \u001b[0;34m+=\u001b[0m \u001b[0mloss\u001b[0m\u001b[0;34m.\u001b[0m\u001b[0mitem\u001b[0m\u001b[0;34m(\u001b[0m\u001b[0;34m)\u001b[0m\u001b[0;34m\u001b[0m\u001b[0;34m\u001b[0m\u001b[0m\n\u001b[1;32m     15\u001b[0m \u001b[0;34m\u001b[0m\u001b[0m\n\u001b[0;32m---> 16\u001b[0;31m         \u001b[0mloss\u001b[0m\u001b[0;34m.\u001b[0m\u001b[0mbackward\u001b[0m\u001b[0;34m(\u001b[0m\u001b[0;34m)\u001b[0m\u001b[0;34m\u001b[0m\u001b[0;34m\u001b[0m\u001b[0m\n\u001b[0m\u001b[1;32m     17\u001b[0m         \u001b[0moptimizer\u001b[0m\u001b[0;34m.\u001b[0m\u001b[0mstep\u001b[0m\u001b[0;34m(\u001b[0m\u001b[0;34m)\u001b[0m\u001b[0;34m\u001b[0m\u001b[0;34m\u001b[0m\u001b[0m\n\u001b[1;32m     18\u001b[0m \u001b[0;34m\u001b[0m\u001b[0m\n",
      "\u001b[0;32m/usr/local/lib/python3.7/site-packages/torch/_tensor.py\u001b[0m in \u001b[0;36mbackward\u001b[0;34m(self, gradient, retain_graph, create_graph, inputs)\u001b[0m\n\u001b[1;32m    305\u001b[0m                 \u001b[0mcreate_graph\u001b[0m\u001b[0;34m=\u001b[0m\u001b[0mcreate_graph\u001b[0m\u001b[0;34m,\u001b[0m\u001b[0;34m\u001b[0m\u001b[0;34m\u001b[0m\u001b[0m\n\u001b[1;32m    306\u001b[0m                 inputs=inputs)\n\u001b[0;32m--> 307\u001b[0;31m         \u001b[0mtorch\u001b[0m\u001b[0;34m.\u001b[0m\u001b[0mautograd\u001b[0m\u001b[0;34m.\u001b[0m\u001b[0mbackward\u001b[0m\u001b[0;34m(\u001b[0m\u001b[0mself\u001b[0m\u001b[0;34m,\u001b[0m \u001b[0mgradient\u001b[0m\u001b[0;34m,\u001b[0m \u001b[0mretain_graph\u001b[0m\u001b[0;34m,\u001b[0m \u001b[0mcreate_graph\u001b[0m\u001b[0;34m,\u001b[0m \u001b[0minputs\u001b[0m\u001b[0;34m=\u001b[0m\u001b[0minputs\u001b[0m\u001b[0;34m)\u001b[0m\u001b[0;34m\u001b[0m\u001b[0;34m\u001b[0m\u001b[0m\n\u001b[0m\u001b[1;32m    308\u001b[0m \u001b[0;34m\u001b[0m\u001b[0m\n\u001b[1;32m    309\u001b[0m     \u001b[0;32mdef\u001b[0m \u001b[0mregister_hook\u001b[0m\u001b[0;34m(\u001b[0m\u001b[0mself\u001b[0m\u001b[0;34m,\u001b[0m \u001b[0mhook\u001b[0m\u001b[0;34m)\u001b[0m\u001b[0;34m:\u001b[0m\u001b[0;34m\u001b[0m\u001b[0;34m\u001b[0m\u001b[0m\n",
      "\u001b[0;32m/usr/local/lib/python3.7/site-packages/torch/autograd/__init__.py\u001b[0m in \u001b[0;36mbackward\u001b[0;34m(tensors, grad_tensors, retain_graph, create_graph, grad_variables, inputs)\u001b[0m\n\u001b[1;32m    154\u001b[0m     Variable._execution_engine.run_backward(\n\u001b[1;32m    155\u001b[0m         \u001b[0mtensors\u001b[0m\u001b[0;34m,\u001b[0m \u001b[0mgrad_tensors_\u001b[0m\u001b[0;34m,\u001b[0m \u001b[0mretain_graph\u001b[0m\u001b[0;34m,\u001b[0m \u001b[0mcreate_graph\u001b[0m\u001b[0;34m,\u001b[0m \u001b[0minputs\u001b[0m\u001b[0;34m,\u001b[0m\u001b[0;34m\u001b[0m\u001b[0;34m\u001b[0m\u001b[0m\n\u001b[0;32m--> 156\u001b[0;31m         allow_unreachable=True, accumulate_grad=True)  # allow_unreachable flag\n\u001b[0m\u001b[1;32m    157\u001b[0m \u001b[0;34m\u001b[0m\u001b[0m\n\u001b[1;32m    158\u001b[0m \u001b[0;34m\u001b[0m\u001b[0m\n",
      "\u001b[0;31mKeyboardInterrupt\u001b[0m: "
     ]
    }
   ],
   "source": [
    "start_epoch = 0 # 从哪一个epoch开始\n",
    "num_epochs = 64 # 要训练多少个epoch\n",
    "\n",
    "# time_all = 0    # 消耗的总时长，单位s\n",
    "\n",
    "for epoch in range(start_epoch, start_epoch + num_epochs):    \n",
    "    ts = time.perf_counter() # 打一个时间戳\n",
    "\n",
    "    train_loss = train_model(epoch, resnet, lossfn, optimizer, trainloader)\n",
    "    td = time.perf_counter()    # 打一个时间戳\n",
    "    \n",
    "    val_loss, val_correct = val_model(epoch, resnet, lossfn, valloader)\n",
    "    \n",
    "    # writer.add_scalar(\"Loss/train\", train_loss, epoch)\n",
    "    \n",
    "    print(f\"Epoch {epoch} | TrainLoss {train_loss:.5f} | ValLoss {val_loss:.5f} | ValCorrect {val_correct:.5f}| TrainTime {(td - ts):.5f}s\")\n",
    "\n",
    "    # print(f\"Epoch: {epoch} | TrainLoss: {train_loss:.5f} | ValLoss: {test_loss:.5f} | EpochTime: {(td - ts):.5f}s ｜ TimeRemaining: {(time_all / (epoch - start_epoch + 1)) * (start_epoch + num_epochs - epoch - 1):.5f}s\")\n",
    "    print(\"----- ----- ----- ----- -----\")\n"
   ]
  },
  {
   "cell_type": "code",
   "execution_count": null,
   "metadata": {},
   "outputs": [],
   "source": [
    "# writer.flush()"
   ]
  }
 ],
 "metadata": {
  "kernelspec": {
   "display_name": "Python 3.7.12 64-bit",
   "language": "python",
   "name": "python3"
  },
  "language_info": {
   "codemirror_mode": {
    "name": "ipython",
    "version": 3
   },
   "file_extension": ".py",
   "mimetype": "text/x-python",
   "name": "python",
   "nbconvert_exporter": "python",
   "pygments_lexer": "ipython3",
   "version": "3.7.12"
  },
  "orig_nbformat": 4,
  "vscode": {
   "interpreter": {
    "hash": "949777d72b0d2535278d3dc13498b2535136f6dfe0678499012e853ee9abcab1"
   }
  }
 },
 "nbformat": 4,
 "nbformat_minor": 2
}
