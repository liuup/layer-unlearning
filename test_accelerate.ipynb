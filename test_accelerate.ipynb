{
 "cells": [
  {
   "cell_type": "code",
   "execution_count": 1,
   "metadata": {},
   "outputs": [],
   "source": [
    "import torch\n",
    "import torch.nn.functional as F\n",
    "import torch.nn as nn\n",
    "from torch.utils.data import Subset, DataLoader, TensorDataset\n",
    "\n",
    "import torchvision\n",
    "import torchvision.transforms as transforms\n",
    "\n",
    "import time\n",
    "import copy\n",
    "import random\n",
    "import numpy as np\n",
    "import matplotlib.pyplot as plt\n",
    "from PIL import Image"
   ]
  },
  {
   "cell_type": "code",
   "execution_count": 2,
   "metadata": {},
   "outputs": [],
   "source": [
    "from accelerate import Accelerator"
   ]
  },
  {
   "cell_type": "code",
   "execution_count": 14,
   "metadata": {},
   "outputs": [
    {
     "name": "stdout",
     "output_type": "stream",
     "text": [
      "Device count: 2\n",
      "_CudaDeviceProperties(name='Z100SM', major=7, minor=5, total_memory=16368MB, multi_processor_count=64)\n",
      "_CudaDeviceProperties(name='Z100SM', major=7, minor=5, total_memory=16368MB, multi_processor_count=64)\n"
     ]
    }
   ],
   "source": [
    "device_count = torch.cuda.device_count()\n",
    "print(f\"Device count: {device_count}\")\n",
    "\n",
    "for i in range(device_count):\n",
    "    print(torch.cuda.get_device_properties(i))"
   ]
  },
  {
   "cell_type": "code",
   "execution_count": 15,
   "metadata": {},
   "outputs": [
    {
     "name": "stdout",
     "output_type": "stream",
     "text": [
      "Computing Device:  cuda\n"
     ]
    }
   ],
   "source": [
    "computing_device = \"cuda\"\n",
    "if not torch.cuda.is_available():\n",
    "    computing_device = \"cpu\"\n",
    "print(\"Computing Device: \", computing_device)"
   ]
  },
  {
   "cell_type": "code",
   "execution_count": 6,
   "metadata": {},
   "outputs": [],
   "source": [
    "accelerator = Accelerator()\n",
    "# print(accelerator)"
   ]
  },
  {
   "cell_type": "code",
   "execution_count": 16,
   "metadata": {},
   "outputs": [
    {
     "name": "stdout",
     "output_type": "stream",
     "text": [
      "50000\n",
      "10000\n"
     ]
    }
   ],
   "source": [
    "batch_size = 256\n",
    "\n",
    "# transform = transforms.Compose([transforms.ToTensor(),\n",
    "#                                 transforms.Normalize([0.485, 0.456, 0.406], [0.229, 0.224, 0.225])])\n",
    "\n",
    "transform_train = transforms.Compose([\n",
    "    transforms.RandomCrop(32, padding=4),  # 先四周填充0，在吧图像随机裁剪成32*32\n",
    "    transforms.RandomHorizontalFlip(),  # 图像一半的概率翻转，一半的概率不翻转\n",
    "    transforms.ToTensor(),\n",
    "    transforms.Normalize((0.4914, 0.4822, 0.4465), (0.2023, 0.1994, 0.2010)),  # R,G,B每层的归一化用到的均值和方差\n",
    "])\n",
    "\n",
    "transform_val = transforms.Compose([\n",
    "    transforms.ToTensor(),\n",
    "    transforms.Normalize((0.4914, 0.4822, 0.4465), (0.2023, 0.1994, 0.2010)),\n",
    "])\n",
    "\n",
    "\n",
    "train_dataset = torchvision.datasets.CIFAR10(root='./data', train=True, download=False, transform=transform_train)\n",
    "validate_dataset = torchvision.datasets.CIFAR10(root='./data', train=False, download=False, transform=transform_val)\n",
    "\n",
    "trainloader = DataLoader(train_dataset, batch_size=batch_size, shuffle=True, num_workers=8)\n",
    "valloader = DataLoader(validate_dataset, batch_size=batch_size, shuffle=False, num_workers=8)\n",
    "\n",
    "print(len(trainloader.dataset))\n",
    "print(len(valloader.dataset))"
   ]
  },
  {
   "cell_type": "code",
   "execution_count": 17,
   "metadata": {},
   "outputs": [
    {
     "name": "stdout",
     "output_type": "stream",
     "text": [
      "Using 2 GPUs!\n"
     ]
    }
   ],
   "source": [
    "# print(torchvision.models())\n",
    "resnet = torchvision.models.resnet101(num_classes=10).to(computing_device)\n",
    "\n",
    "\n",
    "# resnet = torchvision.models.resnet101(num_classes=10)\n",
    "\n",
    "\n",
    "if torch.cuda.device_count() > 1:\n",
    "    print(f\"Using {torch.cuda.device_count()} GPUs!\")\n",
    "    model = nn.DataParallel(resnet)\n",
    "\n",
    "lr = 0.001\n",
    "lossfn = nn.CrossEntropyLoss()\n",
    "optimizer = torch.optim.Adam(resnet.parameters(), lr=lr)\n",
    "\n",
    "\n",
    "# resnet, optimizer, trainloader, valloader = accelerator.prepare(model, optimizer, trainloader, valloader)\n"
   ]
  },
  {
   "cell_type": "code",
   "execution_count": 18,
   "metadata": {},
   "outputs": [
    {
     "name": "stdout",
     "output_type": "stream",
     "text": [
      "42520650\n"
     ]
    }
   ],
   "source": [
    "print(sum(p.numel() for p in resnet.parameters()))   # 查看一下模型参数量"
   ]
  },
  {
   "cell_type": "code",
   "execution_count": 19,
   "metadata": {},
   "outputs": [
    {
     "name": "stdout",
     "output_type": "stream",
     "text": [
      "torch.Size([128, 10])\n",
      "tensor([[ 0.1384,  0.8438, -0.5476,  ...,  0.3943, -0.7210, -0.5561],\n",
      "        [-0.6230,  0.6988, -1.2198,  ...,  1.6391, -1.3147, -0.5729],\n",
      "        [-0.6027, -0.4884, -1.2437,  ...,  0.8441,  1.6953,  0.0948],\n",
      "        ...,\n",
      "        [-0.5671,  0.5456, -0.8684,  ...,  0.7286, -1.3601, -0.3616],\n",
      "        [-0.2223,  0.5276, -2.0907,  ...,  0.9317, -1.5681,  0.1793],\n",
      "        [ 0.3822,  0.0922, -1.8689,  ..., -0.0190,  0.8040, -0.7867]],\n",
      "       device='cuda:0', grad_fn=<AddmmBackward0>)\n"
     ]
    }
   ],
   "source": [
    "# print(model)\n",
    "# for X, y in valloader:\n",
    "#     print(X.size(), y.size())\n",
    "#     break\n",
    "\n",
    "# 测试一下模型的输入输出维度\n",
    "tmpdata = torch.randn([128, 3, 32, 32]).to(computing_device)\n",
    "tmpout = resnet(tmpdata)\n",
    "\n",
    "print(tmpout.size())\n",
    "print(tmpout)\n"
   ]
  },
  {
   "cell_type": "code",
   "execution_count": null,
   "metadata": {},
   "outputs": [],
   "source": [
    "for k in resnet.state_dict():\n",
    "    if k.find(\"bias\") >= 1:\n",
    "        continue\n",
    "    print(k)"
   ]
  },
  {
   "cell_type": "code",
   "execution_count": 20,
   "metadata": {},
   "outputs": [],
   "source": [
    "# 训练\n",
    "def train_model(epoch, model, loss_fn, optimizer, trainloader):\n",
    "    # training\n",
    "    num_batches = len(trainloader)\n",
    "    model.train()\n",
    "    train_loss = 0\n",
    "    for batch, (X, y) in enumerate(trainloader):\n",
    "        X, y = X.to(computing_device), y.to(computing_device)\n",
    "        optimizer.zero_grad()\n",
    "        \n",
    "        predict = model(X)\n",
    "\n",
    "        loss = loss_fn(predict, y)\n",
    "        train_loss += loss.item()\n",
    "\n",
    "        loss.backward()\n",
    "        # accelerator.backward(loss)\n",
    "        optimizer.step()\n",
    "        \n",
    "    train_loss /= num_batches\n",
    "\n",
    "    return train_loss\n",
    "\n",
    "# 验证\n",
    "def val_model(epoch, model, loss_fn, valloader):\n",
    "    size = len(valloader.dataset)\n",
    "    num_batches = len(valloader)\n",
    "    \n",
    "    model.eval()\n",
    "    test_loss, val_correct = 0, 0\n",
    "    with torch.no_grad():        \n",
    "        for batch, (X, y) in enumerate(valloader):\n",
    "            # X, y = X.to(computing_device), y.to(computing_device)\n",
    "\n",
    "            predict = model(X)\n",
    "            loss = loss_fn(predict, y)\n",
    "            test_loss += loss.item()\n",
    "            val_correct += (predict.argmax(1) == y).type(torch.float).sum().item() \n",
    "            \n",
    "    test_loss /= num_batches\n",
    "    val_correct /= size\n",
    "\n",
    "    return test_loss, val_correct\n",
    "\n",
    "# 测试\n",
    "def test_model(model, loss_fn, testloader):\n",
    "    pass\n"
   ]
  },
  {
   "cell_type": "code",
   "execution_count": 21,
   "metadata": {},
   "outputs": [
    {
     "name": "stdout",
     "output_type": "stream",
     "text": [
      "Epoch 0 | TrainLoss 2.02791 | TrainTime 27.59285s\n",
      "----- ----- ----- ----- -----\n",
      "Epoch 1 | TrainLoss 1.72336 | TrainTime 27.70242s\n",
      "----- ----- ----- ----- -----\n",
      "Epoch 2 | TrainLoss 1.59175 | TrainTime 27.71325s\n",
      "----- ----- ----- ----- -----\n",
      "Epoch 3 | TrainLoss 1.61943 | TrainTime 26.96696s\n",
      "----- ----- ----- ----- -----\n",
      "Epoch 4 | TrainLoss 1.39395 | TrainTime 27.33436s\n",
      "----- ----- ----- ----- -----\n"
     ]
    }
   ],
   "source": [
    "start_epoch = 0 # 从哪一个epoch开始\n",
    "num_epochs = 5 # 要训练多少个epoch\n",
    "\n",
    "# time_all = 0    # 消耗的总时长，单位s\n",
    "\n",
    "for epoch in range(start_epoch, start_epoch + num_epochs):    \n",
    "    ts = time.perf_counter() # 打一个时间戳\n",
    "\n",
    "    train_loss = train_model(epoch, resnet, lossfn, optimizer, trainloader)\n",
    "    td = time.perf_counter()    # 打一个时间戳\n",
    "    \n",
    "    # val_loss, val_correct = val_model(epoch, resnet, lossfn, valloader)\n",
    "    \n",
    "    # writer.add_scalar(\"Loss/train\", train_loss, epoch)\n",
    "    \n",
    "    # print(f\"Epoch {epoch} | TrainLoss {train_loss:.5f} | ValLoss {val_loss:.5f} | ValCorrect {val_correct:.5f}| TrainTime {(td - ts):.5f}s\")\n",
    "    print(f\"Epoch {epoch} | TrainLoss {train_loss:.5f} | TrainTime {(td - ts):.5f}s\")\n",
    "\n",
    "    # print(f\"Epoch: {epoch} | TrainLoss: {train_loss:.5f} | ValLoss: {test_loss:.5f} | EpochTime: {(td - ts):.5f}s ｜ TimeRemaining: {(time_all / (epoch - start_epoch + 1)) * (start_epoch + num_epochs - epoch - 1):.5f}s\")\n",
    "    print(\"----- ----- ----- ----- -----\")\n"
   ]
  },
  {
   "cell_type": "code",
   "execution_count": null,
   "metadata": {},
   "outputs": [],
   "source": []
  }
 ],
 "metadata": {
  "kernelspec": {
   "display_name": "Python 3.7.12 64-bit",
   "language": "python",
   "name": "python3"
  },
  "language_info": {
   "codemirror_mode": {
    "name": "ipython",
    "version": 3
   },
   "file_extension": ".py",
   "mimetype": "text/x-python",
   "name": "python",
   "nbconvert_exporter": "python",
   "pygments_lexer": "ipython3",
   "version": "3.7.12"
  },
  "orig_nbformat": 4,
  "vscode": {
   "interpreter": {
    "hash": "949777d72b0d2535278d3dc13498b2535136f6dfe0678499012e853ee9abcab1"
   }
  }
 },
 "nbformat": 4,
 "nbformat_minor": 2
}
