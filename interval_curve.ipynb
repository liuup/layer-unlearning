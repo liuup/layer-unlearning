{
 "cells": [
  {
   "cell_type": "code",
   "execution_count": null,
   "metadata": {},
   "outputs": [],
   "source": [
    "import numpy as np\n",
    "import matplotlib.pyplot as plt\n",
    "\n",
    "# 示例数据，FPR 是横轴，TPR 是纵轴，err 是误差范围\n",
    "fpr = np.logspace(-3, 0, 100)  # 生成一个从10^-3到10^0的假设FPR数据\n",
    "tpr_before = np.power(fpr, 0.5)  # 示例的TPR数据\n",
    "tpr_after = np.power(fpr, 0.6)   # 另一个TPR曲线\n",
    "\n",
    "# 定义标准差或误差范围（随机生成一些误差来演示）\n",
    "error_before = tpr_before * 0.2  # 20%的误差\n",
    "error_after = tpr_after * 0.15   # 15%的误差\n",
    "\n",
    "# 创建图形\n",
    "plt.figure(figsize=(10, 7))\n",
    "\n",
    "# 画出“unlearning前”的实线以及阴影范围\n",
    "plt.plot(fpr, tpr_before, color='orange', label='Empirical tradeoff curve before unlearning')\n",
    "plt.fill_between(fpr, tpr_before - error_before, tpr_before + error_before, color='orange', alpha=0.3)\n",
    "\n",
    "# 画出“unlearning后”的实线以及阴影范围\n",
    "plt.plot(fpr, tpr_after, color='blue', label='Empirical tradeoff curve after unlearning')\n",
    "plt.fill_between(fpr, tpr_after - error_after, tpr_after + error_after, color='blue', alpha=0.3)\n",
    "\n",
    "# 设置图形的轴刻度为对数\n",
    "plt.xscale('log')\n",
    "plt.yscale('log')\n",
    "\n",
    "# 添加标签和标题\n",
    "plt.xlabel('False Positive Rate (FPR)')\n",
    "plt.ylabel('True Positive Rate (TPR)')\n",
    "plt.title(r'Testing Unlearning with $\\sigma^2_{NGD} = 1e^{-7}$')\n",
    "\n",
    "# 添加图例\n",
    "plt.legend()\n",
    "\n",
    "# 显示图形\n",
    "plt.show()\n"
   ]
  },
  {
   "cell_type": "code",
   "execution_count": null,
   "metadata": {},
   "outputs": [],
   "source": [
    "import umap\n",
    "import numpy as np\n",
    "\n",
    "# print(umap.__version__)\n",
    "\n",
    "# 创建 UMAP 实例\n",
    "umap_model = umap.UMAP(n_components=3)\n",
    "\n",
    "# 示例数据：生成形状为 (100, 50) 的随机高维数据\n",
    "high_dim_array = np.random.rand(100, 50)\n",
    "\n",
    "print(high_dim_array.shape)\n",
    "\n",
    "# 使用 UMAP 进行降维\n",
    "low_dim_array = umap_model.fit_transform(high_dim_array)\n",
    "\n",
    "print(low_dim_array.shape)\n"
   ]
  },
  {
   "cell_type": "code",
   "execution_count": null,
   "metadata": {},
   "outputs": [],
   "source": [
    "import matplotlib.pyplot as plt\n",
    "from mpl_toolkits.mplot3d import Axes3D\n",
    "import numpy as np\n",
    "\n",
    "# 创建数据\n",
    "theta = np.linspace(-4 * np.pi, 4 * np.pi, 100)\n",
    "z = np.linspace(-2, 2, 100)\n",
    "r = z**2 + 1\n",
    "x = r * np.sin(theta)\n",
    "y = r * np.cos(theta)\n",
    "\n",
    "# print(x)\n",
    "# print(y)\n",
    "# print(z)\n",
    "\n",
    "\n",
    "# 创建三维图形对象\n",
    "fig = plt.figure()\n",
    "ax = fig.add_subplot(111, projection='3d')\n",
    "\n",
    "# 绘制三维线图\n",
    "ax.plot(x, y, z, label='3D line')\n",
    "ax.legend()\n",
    "\n",
    "# 显示图形\n",
    "plt.show()\n"
   ]
  },
  {
   "cell_type": "code",
   "execution_count": null,
   "metadata": {},
   "outputs": [],
   "source": [
    "# 假设你有一个二维数组\n",
    "array = [[1, 2, 3], [4, 5, 6], [7, 8, 9]]\n",
    "\n",
    "# 将数组转换为字符串\n",
    "array_str = str(array)"
   ]
  }
 ],
 "metadata": {
  "kernelspec": {
   "display_name": "Python 3.7.12 64-bit",
   "language": "python",
   "name": "python3"
  },
  "language_info": {
   "codemirror_mode": {
    "name": "ipython",
    "version": 3
   },
   "file_extension": ".py",
   "mimetype": "text/x-python",
   "name": "python",
   "nbconvert_exporter": "python",
   "pygments_lexer": "ipython3",
   "version": "3.7.12"
  },
  "orig_nbformat": 4,
  "vscode": {
   "interpreter": {
    "hash": "949777d72b0d2535278d3dc13498b2535136f6dfe0678499012e853ee9abcab1"
   }
  }
 },
 "nbformat": 4,
 "nbformat_minor": 2
}
